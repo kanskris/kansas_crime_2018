{
 "cells": [
  {
   "cell_type": "code",
   "execution_count": 1,
   "metadata": {},
   "outputs": [],
   "source": [
    "#importing Libraries\n",
    "import pandas as pd\n",
    "from datetime import datetime\n",
    "import time\n",
    "import matplotlib.pyplot as plt\n",
    "import warnings\n",
    "warnings.filterwarnings('ignore')\n",
    "import scipy.stats as stats"
   ]
  },
  {
   "cell_type": "code",
   "execution_count": 2,
   "metadata": {},
   "outputs": [],
   "source": [
    "#Defining file path\n",
    "file_to_load = 'Resources/clean_data_untouched.csv'\n",
    "data = pd.read_csv(file_to_load)"
   ]
  },
  {
   "cell_type": "code",
   "execution_count": 3,
   "metadata": {},
   "outputs": [],
   "source": [
    "#Getting the columns needed for the analysis\n",
    "cleanedData = data.loc[:, ['Reported_Date', 'Description']]"
   ]
  },
  {
   "cell_type": "code",
   "execution_count": 4,
   "metadata": {},
   "outputs": [
    {
     "data": {
      "text/html": [
       "<div>\n",
       "<style scoped>\n",
       "    .dataframe tbody tr th:only-of-type {\n",
       "        vertical-align: middle;\n",
       "    }\n",
       "\n",
       "    .dataframe tbody tr th {\n",
       "        vertical-align: top;\n",
       "    }\n",
       "\n",
       "    .dataframe thead th {\n",
       "        text-align: right;\n",
       "    }\n",
       "</style>\n",
       "<table border=\"1\" class=\"dataframe\">\n",
       "  <thead>\n",
       "    <tr style=\"text-align: right;\">\n",
       "      <th></th>\n",
       "      <th>Reported_Date</th>\n",
       "      <th>Description</th>\n",
       "    </tr>\n",
       "  </thead>\n",
       "  <tbody>\n",
       "    <tr>\n",
       "      <th>0</th>\n",
       "      <td>2018-09-02</td>\n",
       "      <td>Burglary - Residence</td>\n",
       "    </tr>\n",
       "    <tr>\n",
       "      <th>1</th>\n",
       "      <td>2018-01-31</td>\n",
       "      <td>Forgery</td>\n",
       "    </tr>\n",
       "    <tr>\n",
       "      <th>2</th>\n",
       "      <td>2018-01-30</td>\n",
       "      <td>Sex Off Fondle - mol</td>\n",
       "    </tr>\n",
       "    <tr>\n",
       "      <th>3</th>\n",
       "      <td>2018-01-30</td>\n",
       "      <td>Burglary - Residence</td>\n",
       "    </tr>\n",
       "    <tr>\n",
       "      <th>4</th>\n",
       "      <td>2018-12-08</td>\n",
       "      <td>Property Damage</td>\n",
       "    </tr>\n",
       "    <tr>\n",
       "      <th>...</th>\n",
       "      <td>...</td>\n",
       "      <td>...</td>\n",
       "    </tr>\n",
       "    <tr>\n",
       "      <th>128933</th>\n",
       "      <td>2018-12-23</td>\n",
       "      <td>HOMICIDE/Non Neglige</td>\n",
       "    </tr>\n",
       "    <tr>\n",
       "      <th>128934</th>\n",
       "      <td>2018-12-27</td>\n",
       "      <td>Stealing Shoplifting</td>\n",
       "    </tr>\n",
       "    <tr>\n",
       "      <th>128935</th>\n",
       "      <td>2018-12-29</td>\n",
       "      <td>Burglary - Residence</td>\n",
       "    </tr>\n",
       "    <tr>\n",
       "      <th>128936</th>\n",
       "      <td>2018-12-25</td>\n",
       "      <td>Non Agg Assault Dome</td>\n",
       "    </tr>\n",
       "    <tr>\n",
       "      <th>128937</th>\n",
       "      <td>2018-12-25</td>\n",
       "      <td>Stealing Shoplifting</td>\n",
       "    </tr>\n",
       "  </tbody>\n",
       "</table>\n",
       "<p>128938 rows × 2 columns</p>\n",
       "</div>"
      ],
      "text/plain": [
       "       Reported_Date           Description\n",
       "0         2018-09-02  Burglary - Residence\n",
       "1         2018-01-31               Forgery\n",
       "2         2018-01-30  Sex Off Fondle - mol\n",
       "3         2018-01-30  Burglary - Residence\n",
       "4         2018-12-08       Property Damage\n",
       "...              ...                   ...\n",
       "128933    2018-12-23  HOMICIDE/Non Neglige\n",
       "128934    2018-12-27  Stealing Shoplifting\n",
       "128935    2018-12-29  Burglary - Residence\n",
       "128936    2018-12-25  Non Agg Assault Dome\n",
       "128937    2018-12-25  Stealing Shoplifting\n",
       "\n",
       "[128938 rows x 2 columns]"
      ]
     },
     "execution_count": 4,
     "metadata": {},
     "output_type": "execute_result"
    }
   ],
   "source": [
    "#Converting reported date field to type datetime\n",
    "cleanedData['Reported_Date'] = pd.to_datetime(cleanedData['Reported_Date'], errors='coerce')\n",
    "cleanedData"
   ]
  },
  {
   "cell_type": "markdown",
   "metadata": {},
   "source": [
    "# Total Number of Crimes by Month"
   ]
  },
  {
   "cell_type": "code",
   "execution_count": 5,
   "metadata": {},
   "outputs": [],
   "source": [
    "#Getting the total number of crimes that took place in each month,\n",
    "#got the code from https://stackoverflow.com/questions/44908383/how-can-i-group-by-month-from-a-date-field-using-python-pandas\n",
    "totalByMonth = cleanedData.groupby(cleanedData['Reported_Date'].dt.strftime('%B'))['Reported_Date'].count()"
   ]
  },
  {
   "cell_type": "code",
   "execution_count": 6,
   "metadata": {},
   "outputs": [],
   "source": [
    "#Converting the series to a dataframe to make user friendly to work with\n",
    "totalByMonth_df = pd.DataFrame(totalByMonth)"
   ]
  },
  {
   "cell_type": "code",
   "execution_count": 7,
   "metadata": {},
   "outputs": [
    {
     "data": {
      "text/html": [
       "<div>\n",
       "<style scoped>\n",
       "    .dataframe tbody tr th:only-of-type {\n",
       "        vertical-align: middle;\n",
       "    }\n",
       "\n",
       "    .dataframe tbody tr th {\n",
       "        vertical-align: top;\n",
       "    }\n",
       "\n",
       "    .dataframe thead th {\n",
       "        text-align: right;\n",
       "    }\n",
       "</style>\n",
       "<table border=\"1\" class=\"dataframe\">\n",
       "  <thead>\n",
       "    <tr style=\"text-align: right;\">\n",
       "      <th></th>\n",
       "      <th>Reported_Date</th>\n",
       "    </tr>\n",
       "    <tr>\n",
       "      <th>Reported_Date</th>\n",
       "      <th></th>\n",
       "    </tr>\n",
       "  </thead>\n",
       "  <tbody>\n",
       "    <tr>\n",
       "      <th>January</th>\n",
       "      <td>10191</td>\n",
       "    </tr>\n",
       "    <tr>\n",
       "      <th>February</th>\n",
       "      <td>8877</td>\n",
       "    </tr>\n",
       "    <tr>\n",
       "      <th>March</th>\n",
       "      <td>10796</td>\n",
       "    </tr>\n",
       "    <tr>\n",
       "      <th>April</th>\n",
       "      <td>10418</td>\n",
       "    </tr>\n",
       "    <tr>\n",
       "      <th>May</th>\n",
       "      <td>11693</td>\n",
       "    </tr>\n",
       "    <tr>\n",
       "      <th>June</th>\n",
       "      <td>11487</td>\n",
       "    </tr>\n",
       "    <tr>\n",
       "      <th>July</th>\n",
       "      <td>11489</td>\n",
       "    </tr>\n",
       "    <tr>\n",
       "      <th>August</th>\n",
       "      <td>11746</td>\n",
       "    </tr>\n",
       "    <tr>\n",
       "      <th>September</th>\n",
       "      <td>10879</td>\n",
       "    </tr>\n",
       "    <tr>\n",
       "      <th>October</th>\n",
       "      <td>11990</td>\n",
       "    </tr>\n",
       "    <tr>\n",
       "      <th>November</th>\n",
       "      <td>9955</td>\n",
       "    </tr>\n",
       "    <tr>\n",
       "      <th>December</th>\n",
       "      <td>9417</td>\n",
       "    </tr>\n",
       "  </tbody>\n",
       "</table>\n",
       "</div>"
      ],
      "text/plain": [
       "               Reported_Date\n",
       "Reported_Date               \n",
       "January                10191\n",
       "February                8877\n",
       "March                  10796\n",
       "April                  10418\n",
       "May                    11693\n",
       "June                   11487\n",
       "July                   11489\n",
       "August                 11746\n",
       "September              10879\n",
       "October                11990\n",
       "November                9955\n",
       "December                9417"
      ]
     },
     "execution_count": 7,
     "metadata": {},
     "output_type": "execute_result"
    }
   ],
   "source": [
    "#sorting the dataframe to list the results in sorted manner,\n",
    "#got the code from https://stackoverflow.com/questions/40816144/pandas-series-sort-by-month-index\n",
    "months = ['January', 'February', 'March', 'April', 'May', 'June', 'July', 'August', 'September', 'October',\n",
    "         'November', 'December']\n",
    "totalByMonth_df.index = pd.CategoricalIndex(totalByMonth_df.index, categories=months, ordered=True)\n",
    "totalByMonth_df = totalByMonth_df.sort_index()\n",
    "totalByMonth_df"
   ]
  },
  {
   "cell_type": "code",
   "execution_count": 8,
   "metadata": {},
   "outputs": [],
   "source": [
    "summ = ['April', 'May','June','July','August', 'September']\n",
    "wint = ['October', 'November', 'December', 'January', 'February', 'March']\n",
    "summer = totalByMonth_df.loc[summ, :].sum()\n",
    "winter = totalByMonth_df.loc[wint, :].sum()"
   ]
  },
  {
   "cell_type": "code",
   "execution_count": 9,
   "metadata": {},
   "outputs": [],
   "source": [
    "season = pd.DataFrame({'Season': ['Summer', 'Winter'],\n",
    "                      'Total' : [summer.get(key='Reported_Date'), winter.get(key='Reported_Date')]})"
   ]
  },
  {
   "cell_type": "code",
   "execution_count": 10,
   "metadata": {},
   "outputs": [
    {
     "data": {
      "image/png": "[encoded data removed]",
      "text/plain": [
       "<Figure size 864x432 with 1 Axes>"
      ]
     },
     "metadata": {
      "needs_background": "light"
     },
     "output_type": "display_data"
    }
   ],
   "source": [
    "#Creating the plot to represent the data\n",
    "colors =['red', 'brown', 'orange', 'yellow', 'green', 'teal', 'cyan', 'dodgerblue', 'navy', 'indigo', 'magenta','hotpink']\n",
    "fig, ax = plt.subplots(figsize=(12,6))\n",
    "totalCrimes = plt.bar(x = totalByMonth_df.index, height= totalByMonth_df['Reported_Date'], color=colors)\n",
    "plt.title(\"Total Number of Crimes By Month\")\n",
    "plt.xlabel('Month')\n",
    "plt.ylabel('Total Number of Reported Crimes')\n",
    "plt.tight_layout()\n",
    "plt.savefig('Images/Total Number of Crimes by Month')\n",
    "plt.show()"
   ]
  },
  {
   "cell_type": "code",
   "execution_count": 11,
   "metadata": {},
   "outputs": [
    {
     "data": {
      "image/png": "[encoded data removed]",
      "text/plain": [
       "<Figure size 432x288 with 1 Axes>"
      ]
     },
     "metadata": {
      "needs_background": "light"
     },
     "output_type": "display_data"
    }
   ],
   "source": [
    "fig, ax1 = plt.subplots()\n",
    "seasonalgraph =ax1.bar(x=season['Season'], height=season['Total'], color=['red', 'yellow'])\n",
    "plt.xlabel('Season')\n",
    "plt.ylabel('Total Number of Crimes')\n",
    "plt.title('Total Number of Crimes by Season')\n",
    "plt.savefig('Images/Total Number of Crimes by Season')\n",
    "plt.show()"
   ]
  },
  {
   "cell_type": "code",
   "execution_count": 38,
   "metadata": {},
   "outputs": [
    {
     "data": {
      "text/plain": [
       "F_onewayResult(statistic=4.7627313142803835, pvalue=0.05402874268438566)"
      ]
     },
     "execution_count": 38,
     "metadata": {},
     "output_type": "execute_result"
    }
   ],
   "source": [
    "jan = cleanedData[cleanedData['Month'] == 'January']['Month'].count()\n",
    "feb = cleanedData[cleanedData['Month'] == 'February']['Month'].count()\n",
    "mar = cleanedData[cleanedData['Month'] == 'March']['Month'].count()\n",
    "apr = cleanedData[cleanedData['Month'] == 'April']['Month'].count()\n",
    "may = cleanedData[cleanedData['Month'] == 'May']['Month'].count()\n",
    "jun = cleanedData[cleanedData['Month'] == 'June']['Month'].count()\n",
    "jul = cleanedData[cleanedData['Month'] == 'July']['Month'].count()\n",
    "aug = cleanedData[cleanedData['Month'] == 'August']['Month'].count()\n",
    "sep = cleanedData[cleanedData['Month'] == 'September']['Month'].count()\n",
    "Oct = cleanedData[cleanedData['Month'] == 'October']['Month'].count()\n",
    "nov = cleanedData[cleanedData['Month'] == 'November']['Month'].count()\n",
    "dec = cleanedData[cleanedData['Month'] == 'December']['Month'].count()\n",
    "listw = [Oct, nov, dec, jan, feb, mar]\n",
    "lists = [apr, may, jun, jul, aug, sep]\n",
    "stats.f_oneway(listw, lists)\n",
    "# listm"
   ]
  },
  {
   "cell_type": "markdown",
   "metadata": {},
   "source": [
    "# By Season"
   ]
  },
  {
   "cell_type": "code",
   "execution_count": 39,
   "metadata": {},
   "outputs": [
    {
     "data": {
      "text/plain": [
       "64469.0"
      ]
     },
     "execution_count": 39,
     "metadata": {},
     "output_type": "execute_result"
    }
   ],
   "source": [
    "seasonExcpected = (summer.get(key='Reported_Date') + winter.get(key='Reported_Date'))/2\n",
    "seasonExcpected"
   ]
  },
  {
   "cell_type": "code",
   "execution_count": 40,
   "metadata": {},
   "outputs": [
    {
     "data": {
      "text/html": [
       "<div>\n",
       "<style scoped>\n",
       "    .dataframe tbody tr th:only-of-type {\n",
       "        vertical-align: middle;\n",
       "    }\n",
       "\n",
       "    .dataframe tbody tr th {\n",
       "        vertical-align: top;\n",
       "    }\n",
       "\n",
       "    .dataframe thead th {\n",
       "        text-align: right;\n",
       "    }\n",
       "</style>\n",
       "<table border=\"1\" class=\"dataframe\">\n",
       "  <thead>\n",
       "    <tr style=\"text-align: right;\">\n",
       "      <th></th>\n",
       "      <th>expected</th>\n",
       "      <th>observed</th>\n",
       "    </tr>\n",
       "  </thead>\n",
       "  <tbody>\n",
       "    <tr>\n",
       "      <th>Summer</th>\n",
       "      <td>64469.0</td>\n",
       "      <td>67712</td>\n",
       "    </tr>\n",
       "    <tr>\n",
       "      <th>Winter</th>\n",
       "      <td>64469.0</td>\n",
       "      <td>61226</td>\n",
       "    </tr>\n",
       "  </tbody>\n",
       "</table>\n",
       "</div>"
      ],
      "text/plain": [
       "        expected  observed\n",
       "Summer   64469.0     67712\n",
       "Winter   64469.0     61226"
      ]
     },
     "execution_count": 40,
     "metadata": {},
     "output_type": "execute_result"
    }
   ],
   "source": [
    "expected = pd.Series([seasonExcpected, seasonExcpected], index=['Summer', 'Winter'])\n",
    "df = pd.DataFrame([expected]).T\n",
    "df[1] = [summer.get(key='Reported_Date'), winter.get(key='Reported_Date')]\n",
    "df.columns = ['expected', 'observed']\n",
    "df"
   ]
  },
  {
   "cell_type": "code",
   "execution_count": 41,
   "metadata": {},
   "outputs": [
    {
     "data": {
      "text/plain": [
       "5.991464547107979"
      ]
     },
     "execution_count": 41,
     "metadata": {},
     "output_type": "execute_result"
    }
   ],
   "source": [
    "critical_value = stats.chi2.ppf(q = 0.95, df = 2)\n",
    "critical_value"
   ]
  },
  {
   "cell_type": "code",
   "execution_count": 42,
   "metadata": {},
   "outputs": [
    {
     "data": {
      "text/plain": [
       "Power_divergenceResult(statistic=326.26685693899395, pvalue=6.250067822587716e-73)"
      ]
     },
     "execution_count": 42,
     "metadata": {},
     "output_type": "execute_result"
    }
   ],
   "source": [
    "stats.chisquare(df['observed'], df['expected'])"
   ]
  },
  {
   "cell_type": "markdown",
   "metadata": {},
   "source": [
    "### Conclusion\n",
    " *Since the chi-square value is 326.3, which exceeds the critical value\n",
    " of 5.99, it can be concluded that the difference between the seasons is statistically significant, and because our p > 0.05, null hypothesis hold true, which is that months do not have any effect on the crime rate."
   ]
  },
  {
   "cell_type": "markdown",
   "metadata": {},
   "source": [
    "# By Quaters"
   ]
  },
  {
   "cell_type": "code",
   "execution_count": 43,
   "metadata": {},
   "outputs": [
    {
     "data": {
      "text/html": [
       "<div>\n",
       "<style scoped>\n",
       "    .dataframe tbody tr th:only-of-type {\n",
       "        vertical-align: middle;\n",
       "    }\n",
       "\n",
       "    .dataframe tbody tr th {\n",
       "        vertical-align: top;\n",
       "    }\n",
       "\n",
       "    .dataframe thead th {\n",
       "        text-align: right;\n",
       "    }\n",
       "</style>\n",
       "<table border=\"1\" class=\"dataframe\">\n",
       "  <thead>\n",
       "    <tr style=\"text-align: right;\">\n",
       "      <th></th>\n",
       "      <th>observed</th>\n",
       "      <th>expected</th>\n",
       "    </tr>\n",
       "  </thead>\n",
       "  <tbody>\n",
       "    <tr>\n",
       "      <th>Q1</th>\n",
       "      <td>29864</td>\n",
       "      <td>32234.5</td>\n",
       "    </tr>\n",
       "    <tr>\n",
       "      <th>Q2</th>\n",
       "      <td>33598</td>\n",
       "      <td>32234.5</td>\n",
       "    </tr>\n",
       "    <tr>\n",
       "      <th>Q3</th>\n",
       "      <td>34114</td>\n",
       "      <td>32234.5</td>\n",
       "    </tr>\n",
       "    <tr>\n",
       "      <th>Q4</th>\n",
       "      <td>31362</td>\n",
       "      <td>32234.5</td>\n",
       "    </tr>\n",
       "  </tbody>\n",
       "</table>\n",
       "</div>"
      ],
      "text/plain": [
       "    observed  expected\n",
       "Q1     29864   32234.5\n",
       "Q2     33598   32234.5\n",
       "Q3     34114   32234.5\n",
       "Q4     31362   32234.5"
      ]
     },
     "execution_count": 43,
     "metadata": {},
     "output_type": "execute_result"
    }
   ],
   "source": [
    "q1 = jan+feb+mar\n",
    "q2 = apr+may+jun\n",
    "q3 = jul+aug+sep\n",
    "q4 = Oct+nov+dec\n",
    "observed = pd.Series([q1, q2, q3, q4], index=['Q1', 'Q2', 'Q3', 'Q4'])\n",
    "expected = (q1+q2+q3+q4)/4\n",
    "df2 = pd.DataFrame([observed]).T\n",
    "df2[1] = [expected, expected, expected, expected]\n",
    "df2.columns = ['observed', 'expected']\n",
    "df2"
   ]
  },
  {
   "cell_type": "code",
   "execution_count": 44,
   "metadata": {},
   "outputs": [
    {
     "data": {
      "text/plain": [
       "7.814727903251179"
      ]
     },
     "execution_count": 44,
     "metadata": {},
     "output_type": "execute_result"
    }
   ],
   "source": [
    "critical_value = stats.chi2.ppf(q = 0.95, df = 3)\n",
    "critical_value"
   ]
  },
  {
   "cell_type": "code",
   "execution_count": 45,
   "metadata": {},
   "outputs": [
    {
     "data": {
      "text/plain": [
       "Power_divergenceResult(statistic=365.2043307636228, pvalue=7.60815843778268e-79)"
      ]
     },
     "execution_count": 45,
     "metadata": {},
     "output_type": "execute_result"
    }
   ],
   "source": [
    "stats.chisquare(df2['observed'], df2['expected'])"
   ]
  },
  {
   "cell_type": "markdown",
   "metadata": {},
   "source": [
    "# By Month"
   ]
  },
  {
   "cell_type": "code",
   "execution_count": 46,
   "metadata": {},
   "outputs": [
    {
     "data": {
      "text/html": [
       "<div>\n",
       "<style scoped>\n",
       "    .dataframe tbody tr th:only-of-type {\n",
       "        vertical-align: middle;\n",
       "    }\n",
       "\n",
       "    .dataframe tbody tr th {\n",
       "        vertical-align: top;\n",
       "    }\n",
       "\n",
       "    .dataframe thead th {\n",
       "        text-align: right;\n",
       "    }\n",
       "</style>\n",
       "<table border=\"1\" class=\"dataframe\">\n",
       "  <thead>\n",
       "    <tr style=\"text-align: right;\">\n",
       "      <th></th>\n",
       "      <th>observed</th>\n",
       "      <th>expected</th>\n",
       "    </tr>\n",
       "  </thead>\n",
       "  <tbody>\n",
       "    <tr>\n",
       "      <th>Jan</th>\n",
       "      <td>10191</td>\n",
       "      <td>10744.833333</td>\n",
       "    </tr>\n",
       "    <tr>\n",
       "      <th>Feb</th>\n",
       "      <td>8877</td>\n",
       "      <td>10744.833333</td>\n",
       "    </tr>\n",
       "    <tr>\n",
       "      <th>Mar</th>\n",
       "      <td>10796</td>\n",
       "      <td>10744.833333</td>\n",
       "    </tr>\n",
       "    <tr>\n",
       "      <th>Apr</th>\n",
       "      <td>10418</td>\n",
       "      <td>10744.833333</td>\n",
       "    </tr>\n",
       "    <tr>\n",
       "      <th>May</th>\n",
       "      <td>11693</td>\n",
       "      <td>10744.833333</td>\n",
       "    </tr>\n",
       "    <tr>\n",
       "      <th>Jun</th>\n",
       "      <td>11487</td>\n",
       "      <td>10744.833333</td>\n",
       "    </tr>\n",
       "    <tr>\n",
       "      <th>Jul</th>\n",
       "      <td>11489</td>\n",
       "      <td>10744.833333</td>\n",
       "    </tr>\n",
       "    <tr>\n",
       "      <th>Aug</th>\n",
       "      <td>11746</td>\n",
       "      <td>10744.833333</td>\n",
       "    </tr>\n",
       "    <tr>\n",
       "      <th>Sep</th>\n",
       "      <td>10879</td>\n",
       "      <td>10744.833333</td>\n",
       "    </tr>\n",
       "    <tr>\n",
       "      <th>Oct</th>\n",
       "      <td>11990</td>\n",
       "      <td>10744.833333</td>\n",
       "    </tr>\n",
       "    <tr>\n",
       "      <th>Nov</th>\n",
       "      <td>9955</td>\n",
       "      <td>10744.833333</td>\n",
       "    </tr>\n",
       "    <tr>\n",
       "      <th>Dec</th>\n",
       "      <td>9417</td>\n",
       "      <td>10744.833333</td>\n",
       "    </tr>\n",
       "  </tbody>\n",
       "</table>\n",
       "</div>"
      ],
      "text/plain": [
       "     observed      expected\n",
       "Jan     10191  10744.833333\n",
       "Feb      8877  10744.833333\n",
       "Mar     10796  10744.833333\n",
       "Apr     10418  10744.833333\n",
       "May     11693  10744.833333\n",
       "Jun     11487  10744.833333\n",
       "Jul     11489  10744.833333\n",
       "Aug     11746  10744.833333\n",
       "Sep     10879  10744.833333\n",
       "Oct     11990  10744.833333\n",
       "Nov      9955  10744.833333\n",
       "Dec      9417  10744.833333"
      ]
     },
     "execution_count": 46,
     "metadata": {},
     "output_type": "execute_result"
    }
   ],
   "source": [
    "observed = pd.Series([jan, feb, mar, apr, may, jun, jul, aug, sep, Oct,\n",
    "                     nov, dec], index=['Jan', 'Feb', 'Mar', 'Apr', 'May',\n",
    "                                      'Jun', 'Jul', 'Aug', 'Sep', 'Oct',\n",
    "                                      'Nov', 'Dec'])\n",
    "expected = (q1+q2+q3+q4)/12\n",
    "df3 = pd.DataFrame([observed]).T\n",
    "df3[1] = [expected, expected, expected, expected, expected, expected, expected, \n",
    "        expected, expected, expected, expected, expected]\n",
    "df3.columns = ['observed', 'expected']\n",
    "df3"
   ]
  },
  {
   "cell_type": "code",
   "execution_count": 47,
   "metadata": {},
   "outputs": [
    {
     "data": {
      "text/plain": [
       "19.67513757268249"
      ]
     },
     "execution_count": 47,
     "metadata": {},
     "output_type": "execute_result"
    }
   ],
   "source": [
    "critical_value = stats.chi2.ppf(q = 0.95, df = 11)\n",
    "critical_value"
   ]
  },
  {
   "cell_type": "code",
   "execution_count": 48,
   "metadata": {},
   "outputs": [
    {
     "data": {
      "text/plain": [
       "Power_divergenceResult(statistic=1011.3083497494919, pvalue=7.07197987961874e-210)"
      ]
     },
     "execution_count": 48,
     "metadata": {},
     "output_type": "execute_result"
    }
   ],
   "source": [
    "stats.chisquare(df3['observed'], df3['expected'])"
   ]
  },
  {
   "cell_type": "markdown",
   "metadata": {},
   "source": [
    "# Types of Crimes by Month"
   ]
  },
  {
   "cell_type": "code",
   "execution_count": 49,
   "metadata": {},
   "outputs": [
    {
     "data": {
      "text/html": [
       "<div>\n",
       "<style scoped>\n",
       "    .dataframe tbody tr th:only-of-type {\n",
       "        vertical-align: middle;\n",
       "    }\n",
       "\n",
       "    .dataframe tbody tr th {\n",
       "        vertical-align: top;\n",
       "    }\n",
       "\n",
       "    .dataframe thead th {\n",
       "        text-align: right;\n",
       "    }\n",
       "</style>\n",
       "<table border=\"1\" class=\"dataframe\">\n",
       "  <thead>\n",
       "    <tr style=\"text-align: right;\">\n",
       "      <th></th>\n",
       "      <th>Reported_Date</th>\n",
       "      <th>Description</th>\n",
       "      <th>Month</th>\n",
       "    </tr>\n",
       "  </thead>\n",
       "  <tbody>\n",
       "    <tr>\n",
       "      <th>0</th>\n",
       "      <td>2018-09-02</td>\n",
       "      <td>Burglary</td>\n",
       "      <td>September</td>\n",
       "    </tr>\n",
       "    <tr>\n",
       "      <th>1</th>\n",
       "      <td>2018-01-31</td>\n",
       "      <td>Forgery</td>\n",
       "      <td>January</td>\n",
       "    </tr>\n",
       "    <tr>\n",
       "      <th>2</th>\n",
       "      <td>2018-01-30</td>\n",
       "      <td>Sexual Assault</td>\n",
       "      <td>January</td>\n",
       "    </tr>\n",
       "    <tr>\n",
       "      <th>3</th>\n",
       "      <td>2018-01-30</td>\n",
       "      <td>Burglary</td>\n",
       "      <td>January</td>\n",
       "    </tr>\n",
       "    <tr>\n",
       "      <th>4</th>\n",
       "      <td>2018-12-08</td>\n",
       "      <td>Property Damage</td>\n",
       "      <td>December</td>\n",
       "    </tr>\n",
       "    <tr>\n",
       "      <th>...</th>\n",
       "      <td>...</td>\n",
       "      <td>...</td>\n",
       "      <td>...</td>\n",
       "    </tr>\n",
       "    <tr>\n",
       "      <th>128933</th>\n",
       "      <td>2018-12-23</td>\n",
       "      <td>Homicide</td>\n",
       "      <td>December</td>\n",
       "    </tr>\n",
       "    <tr>\n",
       "      <th>128934</th>\n",
       "      <td>2018-12-27</td>\n",
       "      <td>Shoplifting</td>\n",
       "      <td>December</td>\n",
       "    </tr>\n",
       "    <tr>\n",
       "      <th>128935</th>\n",
       "      <td>2018-12-29</td>\n",
       "      <td>Burglary</td>\n",
       "      <td>December</td>\n",
       "    </tr>\n",
       "    <tr>\n",
       "      <th>128936</th>\n",
       "      <td>2018-12-25</td>\n",
       "      <td>Non Aggravated Assault</td>\n",
       "      <td>December</td>\n",
       "    </tr>\n",
       "    <tr>\n",
       "      <th>128937</th>\n",
       "      <td>2018-12-25</td>\n",
       "      <td>Shoplifting</td>\n",
       "      <td>December</td>\n",
       "    </tr>\n",
       "  </tbody>\n",
       "</table>\n",
       "<p>128938 rows × 3 columns</p>\n",
       "</div>"
      ],
      "text/plain": [
       "       Reported_Date             Description      Month\n",
       "0         2018-09-02                Burglary  September\n",
       "1         2018-01-31                 Forgery    January\n",
       "2         2018-01-30          Sexual Assault    January\n",
       "3         2018-01-30                Burglary    January\n",
       "4         2018-12-08         Property Damage   December\n",
       "...              ...                     ...        ...\n",
       "128933    2018-12-23                Homicide   December\n",
       "128934    2018-12-27             Shoplifting   December\n",
       "128935    2018-12-29                Burglary   December\n",
       "128936    2018-12-25  Non Aggravated Assault   December\n",
       "128937    2018-12-25             Shoplifting   December\n",
       "\n",
       "[128938 rows x 3 columns]"
      ]
     },
     "execution_count": 49,
     "metadata": {},
     "output_type": "execute_result"
    }
   ],
   "source": [
    "copy = cleanedData\n",
    "copy['Reported_Date'] = pd.to_datetime(copy['Reported_Date'], errors='coerce')\n",
    "copy['Month'] =  copy['Reported_Date'].dt.strftime('%B')\n",
    "copy = copy.replace({'Agg Assault - Domest': 'Aggravated Assault', 'Aggravated Assault (': 'Aggravated Assault', 'Agg Assault': 'Aggravated Assault', 'agg assault': 'Aggravated Assault',\n",
    "                     'AGG ASSAULT': 'Aggravated Assault', 'Agg Assault - Drive-': 'Aggravated Assault', 'agg assault': 'Aggravated Assault', 'Arson with Fire Bomb': 'Arson', 'HOMICIDE/Non Neglige': 'Homicide',\n",
    "                    'Justifiable Homicide': 'Homicide', 'Non Agg Assault Dome': 'Non Aggravated Assault', 'non aggravated assau': 'Non Aggravated Assault','Non Aggravated Assau': 'Non Aggravated Assault', \n",
    "                     'Sex Off Follow/Entic': 'Sexual Assault', 'Sex Off Fondle - mol': 'Sexual Assault', 'Sex Off Incest': 'Sexual Assault', 'Sex Off Indecent Con': 'Sexual Assault', 'Sex Off Indecent Exp': 'Sexual Assault', \n",
    "                     'Sex Off Misconduct': 'Sexual Assault', 'Sex Offense -others': 'Sexual Assault', 'Sexual Assault with': 'Sexual Assault', 'Forcible Fondling': 'Sexual Assault', 'Kidnapping/Abduction': 'Kidnapping'})\n",
    "copy = copy.replace({'Auto Theft Outside S': 'Auto Theft', 'Burglary - Non Resid': 'Burglary', 'Burglary - Residence': 'Burglary', 'Business Robbery': 'Robbery', 'property damage': 'Property Damage','Stealing All Other': 'Stealing',\n",
    "                     'Stealing Auto Parts': 'Stealing', 'Stealing Auto Parts/': 'Stealing', 'Stealing Bicycles': 'Stealing', 'Stealing Coin Operat': 'Stealing', 'Stealing From Auto': 'Stealing', 'Stealing Pickpocket': 'Pickpocket', \n",
    "                     'Stealing Purse Snatc': 'Snatchning', 'Stealing Shoplifting': 'Shoplifting', 'Stealing from Buildi': 'Stealing', 'Stolen Property OFFE': 'Stolen Property', 'Strong Arm Robbery': 'Armed Robbery', \n",
    "                     'Withhold Property': 'Larceny', 'stealing': 'Stealing', 'stealing from buildi': 'Stealing'})\n",
    "copy = copy.replace({'Accidental Drug Over': 'Drug Overdose', 'Driving Under Influe': 'DUI', 'Drunkenness': 'Misdemeanor', 'Hit and Run of a Per': 'Hit and Run', 'Human Trafficking/Co': 'Human Trafficking','Liquor Law Violaton': 'Violation',\n",
    "                    'Disorderly Conduct': 'Misdemeanor', 'Bomb Threat/Intimida': 'Felony', 'Bombing (other than': 'Felony','False ID': 'Impersonation', 'False Information to': 'Impersonation','Impersonation - NOT': 'Impersonation', 'Gambling - Possessio': 'Gambling',\n",
    "                    'Possession of Drug E': 'Possession of Drug', 'Possession/Sale/Dist': 'Possession of Drug', 'Resisting an Officer' : 'Misdemeanor', 'TRESPASS': 'Trespassing', 'Violation Ex Parte O': 'Violation', 'Violation Full Order': 'Violation', 'Possesion': 'Possession of Drug', \n",
    "                     'Weapons Law Violatio': 'Violation'})\n",
    "copy = copy.replace({'Animal Bite - Dog': 'Animal Bite','Interference with Cu': 'Interference', 'Misc Offense': 'Misc', 'Misc Violation': 'Misc', 'misc violation': 'Misc', 'Promoting Prostituti': 'Prostitution', 'Prostitution/Patroni': 'Prostitution', 'Prostitution/Solicit': 'Prostitution',\n",
    "                     'Suicide By Jumping': 'Suicide', 'Suicide By Shooting': 'Suicide', 'Suicide By Sleeping': 'Suicide', 'Suicide by Other Mea': 'Suicide', 'URINATE IN PUBLIC': 'Misdemeanor/Other','TRASH DUMPING': 'Misdemeanor/Other','`': 'Misc','misc': 'Misc', 'Attempt Suicide by D': 'Attempt Suicide',\n",
    "                     'Attempt Suicide by G': 'Attempt Suicide', 'Attempt Suicide by H': 'Attempt Suicide', 'Attempt Suicide by J': 'Attempt Suicide', 'Attempt Suicide by O': 'Attempt Suicide', 'Attempt Suicide by P': 'Attempt Suicide', 'Attempt Suicide by S': 'Attempt Suicide', 'Attempt Suicide by C': 'Attempt Suicide'})\n",
    "copy = copy.replace({ 'Passing Bad Checks' : 'Counterfeiting','Extortion/Blackmail': 'Blackmail','black mail': 'Blackmail', 'Fraud/Confidence Gam': 'Fraud', 'forgery': 'Forgery', 'Casualty (includes a': 'Casualty', 'Hacking/Computer Inv': 'Cybercrime', 'Dumping (littering)': 'Misdemeanor/Other', 'Missing/Runaway Juve': 'Missing',\n",
    "                    'Suicide By Hanging': 'Suicide'})\n",
    "copy"
   ]
  },
  {
   "cell_type": "code",
   "execution_count": 50,
   "metadata": {},
   "outputs": [],
   "source": [
    "typesofCrime = copy.groupby(['Month','Description'])['Reported_Date'].count()"
   ]
  },
  {
   "cell_type": "code",
   "execution_count": 72,
   "metadata": {},
   "outputs": [
    {
     "data": {
      "text/html": [
       "<div>\n",
       "<style scoped>\n",
       "    .dataframe tbody tr th:only-of-type {\n",
       "        vertical-align: middle;\n",
       "    }\n",
       "\n",
       "    .dataframe tbody tr th {\n",
       "        vertical-align: top;\n",
       "    }\n",
       "\n",
       "    .dataframe thead th {\n",
       "        text-align: right;\n",
       "    }\n",
       "</style>\n",
       "<table border=\"1\" class=\"dataframe\">\n",
       "  <thead>\n",
       "    <tr style=\"text-align: right;\">\n",
       "      <th></th>\n",
       "      <th>Description</th>\n",
       "      <th>Reported_Date</th>\n",
       "    </tr>\n",
       "    <tr>\n",
       "      <th>Month</th>\n",
       "      <th></th>\n",
       "      <th></th>\n",
       "    </tr>\n",
       "  </thead>\n",
       "  <tbody>\n",
       "    <tr>\n",
       "      <th>April</th>\n",
       "      <td>Aggravated Assault</td>\n",
       "      <td>891</td>\n",
       "    </tr>\n",
       "    <tr>\n",
       "      <th>April</th>\n",
       "      <td>Armed Robbery</td>\n",
       "      <td>316</td>\n",
       "    </tr>\n",
       "    <tr>\n",
       "      <th>April</th>\n",
       "      <td>Arson</td>\n",
       "      <td>48</td>\n",
       "    </tr>\n",
       "    <tr>\n",
       "      <th>April</th>\n",
       "      <td>Attempt Suicide</td>\n",
       "      <td>7</td>\n",
       "    </tr>\n",
       "    <tr>\n",
       "      <th>April</th>\n",
       "      <td>Auto Theft</td>\n",
       "      <td>719</td>\n",
       "    </tr>\n",
       "    <tr>\n",
       "      <th>...</th>\n",
       "      <td>...</td>\n",
       "      <td>...</td>\n",
       "    </tr>\n",
       "    <tr>\n",
       "      <th>September</th>\n",
       "      <td>Stolen Property</td>\n",
       "      <td>78</td>\n",
       "    </tr>\n",
       "    <tr>\n",
       "      <th>September</th>\n",
       "      <td>Suicide</td>\n",
       "      <td>1</td>\n",
       "    </tr>\n",
       "    <tr>\n",
       "      <th>September</th>\n",
       "      <td>Trespassing</td>\n",
       "      <td>313</td>\n",
       "    </tr>\n",
       "    <tr>\n",
       "      <th>September</th>\n",
       "      <td>Violation</td>\n",
       "      <td>186</td>\n",
       "    </tr>\n",
       "    <tr>\n",
       "      <th>September</th>\n",
       "      <td>Wire Fraud</td>\n",
       "      <td>24</td>\n",
       "    </tr>\n",
       "  </tbody>\n",
       "</table>\n",
       "<p>574 rows × 2 columns</p>\n",
       "</div>"
      ],
      "text/plain": [
       "                  Description  Reported_Date\n",
       "Month                                       \n",
       "April      Aggravated Assault            891\n",
       "April           Armed Robbery            316\n",
       "April                   Arson             48\n",
       "April         Attempt Suicide              7\n",
       "April              Auto Theft            719\n",
       "...                       ...            ...\n",
       "September     Stolen Property             78\n",
       "September             Suicide              1\n",
       "September         Trespassing            313\n",
       "September           Violation            186\n",
       "September          Wire Fraud             24\n",
       "\n",
       "[574 rows x 2 columns]"
      ]
     },
     "execution_count": 72,
     "metadata": {},
     "output_type": "execute_result"
    }
   ],
   "source": [
    "crime = pd.DataFrame(typesofCrime).reset_index()\n",
    "copyCrime = pd.DataFrame(typesofCrime).reset_index()\n",
    "copyCrime.set_index('Month', inplace=True)\n",
    "copyCrime"
   ]
  },
  {
   "cell_type": "code",
   "execution_count": 52,
   "metadata": {},
   "outputs": [
    {
     "data": {
      "text/html": [
       "<div>\n",
       "<style scoped>\n",
       "    .dataframe tbody tr th:only-of-type {\n",
       "        vertical-align: middle;\n",
       "    }\n",
       "\n",
       "    .dataframe tbody tr th {\n",
       "        vertical-align: top;\n",
       "    }\n",
       "\n",
       "    .dataframe thead th {\n",
       "        text-align: right;\n",
       "    }\n",
       "</style>\n",
       "<table border=\"1\" class=\"dataframe\">\n",
       "  <thead>\n",
       "    <tr style=\"text-align: right;\">\n",
       "      <th>Description</th>\n",
       "      <th>Aggravated Assault</th>\n",
       "      <th>Animal Bite</th>\n",
       "      <th>Animal Cruelty</th>\n",
       "      <th>Armed Robbery</th>\n",
       "      <th>Arson</th>\n",
       "      <th>Attempt Suicide</th>\n",
       "      <th>Auto Theft</th>\n",
       "      <th>Blackmail</th>\n",
       "      <th>Bribery</th>\n",
       "      <th>Burglary</th>\n",
       "      <th>...</th>\n",
       "      <th>Snatchning</th>\n",
       "      <th>Stalking</th>\n",
       "      <th>Statutory Rape</th>\n",
       "      <th>Stealing</th>\n",
       "      <th>Stolen Property</th>\n",
       "      <th>Suicide</th>\n",
       "      <th>Trespassing</th>\n",
       "      <th>Violation</th>\n",
       "      <th>Welfare Fraud</th>\n",
       "      <th>Wire Fraud</th>\n",
       "    </tr>\n",
       "    <tr>\n",
       "      <th>Month</th>\n",
       "      <th></th>\n",
       "      <th></th>\n",
       "      <th></th>\n",
       "      <th></th>\n",
       "      <th></th>\n",
       "      <th></th>\n",
       "      <th></th>\n",
       "      <th></th>\n",
       "      <th></th>\n",
       "      <th></th>\n",
       "      <th></th>\n",
       "      <th></th>\n",
       "      <th></th>\n",
       "      <th></th>\n",
       "      <th></th>\n",
       "      <th></th>\n",
       "      <th></th>\n",
       "      <th></th>\n",
       "      <th></th>\n",
       "      <th></th>\n",
       "      <th></th>\n",
       "    </tr>\n",
       "  </thead>\n",
       "  <tbody>\n",
       "    <tr>\n",
       "      <th>April</th>\n",
       "      <td>891.0</td>\n",
       "      <td>NaN</td>\n",
       "      <td>NaN</td>\n",
       "      <td>316.0</td>\n",
       "      <td>48.0</td>\n",
       "      <td>7.0</td>\n",
       "      <td>719.0</td>\n",
       "      <td>NaN</td>\n",
       "      <td>2.0</td>\n",
       "      <td>714.0</td>\n",
       "      <td>...</td>\n",
       "      <td>4.0</td>\n",
       "      <td>NaN</td>\n",
       "      <td>NaN</td>\n",
       "      <td>1796.0</td>\n",
       "      <td>54.0</td>\n",
       "      <td>2.0</td>\n",
       "      <td>287.0</td>\n",
       "      <td>222.0</td>\n",
       "      <td>NaN</td>\n",
       "      <td>13.0</td>\n",
       "    </tr>\n",
       "    <tr>\n",
       "      <th>August</th>\n",
       "      <td>916.0</td>\n",
       "      <td>NaN</td>\n",
       "      <td>NaN</td>\n",
       "      <td>582.0</td>\n",
       "      <td>49.0</td>\n",
       "      <td>7.0</td>\n",
       "      <td>913.0</td>\n",
       "      <td>NaN</td>\n",
       "      <td>NaN</td>\n",
       "      <td>813.0</td>\n",
       "      <td>...</td>\n",
       "      <td>9.0</td>\n",
       "      <td>NaN</td>\n",
       "      <td>8.0</td>\n",
       "      <td>2320.0</td>\n",
       "      <td>66.0</td>\n",
       "      <td>1.0</td>\n",
       "      <td>335.0</td>\n",
       "      <td>222.0</td>\n",
       "      <td>NaN</td>\n",
       "      <td>16.0</td>\n",
       "    </tr>\n",
       "    <tr>\n",
       "      <th>December</th>\n",
       "      <td>741.0</td>\n",
       "      <td>NaN</td>\n",
       "      <td>NaN</td>\n",
       "      <td>358.0</td>\n",
       "      <td>25.0</td>\n",
       "      <td>4.0</td>\n",
       "      <td>674.0</td>\n",
       "      <td>6.0</td>\n",
       "      <td>NaN</td>\n",
       "      <td>636.0</td>\n",
       "      <td>...</td>\n",
       "      <td>9.0</td>\n",
       "      <td>6.0</td>\n",
       "      <td>9.0</td>\n",
       "      <td>1781.0</td>\n",
       "      <td>66.0</td>\n",
       "      <td>1.0</td>\n",
       "      <td>295.0</td>\n",
       "      <td>139.0</td>\n",
       "      <td>NaN</td>\n",
       "      <td>11.0</td>\n",
       "    </tr>\n",
       "    <tr>\n",
       "      <th>February</th>\n",
       "      <td>617.0</td>\n",
       "      <td>NaN</td>\n",
       "      <td>NaN</td>\n",
       "      <td>275.0</td>\n",
       "      <td>35.0</td>\n",
       "      <td>6.0</td>\n",
       "      <td>834.0</td>\n",
       "      <td>NaN</td>\n",
       "      <td>NaN</td>\n",
       "      <td>597.0</td>\n",
       "      <td>...</td>\n",
       "      <td>4.0</td>\n",
       "      <td>8.0</td>\n",
       "      <td>14.0</td>\n",
       "      <td>1625.0</td>\n",
       "      <td>90.0</td>\n",
       "      <td>NaN</td>\n",
       "      <td>271.0</td>\n",
       "      <td>135.0</td>\n",
       "      <td>NaN</td>\n",
       "      <td>36.0</td>\n",
       "    </tr>\n",
       "    <tr>\n",
       "      <th>January</th>\n",
       "      <td>839.0</td>\n",
       "      <td>NaN</td>\n",
       "      <td>2.0</td>\n",
       "      <td>513.0</td>\n",
       "      <td>70.0</td>\n",
       "      <td>18.0</td>\n",
       "      <td>998.0</td>\n",
       "      <td>4.0</td>\n",
       "      <td>NaN</td>\n",
       "      <td>657.0</td>\n",
       "      <td>...</td>\n",
       "      <td>7.0</td>\n",
       "      <td>NaN</td>\n",
       "      <td>6.0</td>\n",
       "      <td>1915.0</td>\n",
       "      <td>99.0</td>\n",
       "      <td>2.0</td>\n",
       "      <td>226.0</td>\n",
       "      <td>185.0</td>\n",
       "      <td>NaN</td>\n",
       "      <td>35.0</td>\n",
       "    </tr>\n",
       "    <tr>\n",
       "      <th>July</th>\n",
       "      <td>951.0</td>\n",
       "      <td>NaN</td>\n",
       "      <td>NaN</td>\n",
       "      <td>493.0</td>\n",
       "      <td>45.0</td>\n",
       "      <td>10.0</td>\n",
       "      <td>848.0</td>\n",
       "      <td>10.0</td>\n",
       "      <td>NaN</td>\n",
       "      <td>821.0</td>\n",
       "      <td>...</td>\n",
       "      <td>4.0</td>\n",
       "      <td>6.0</td>\n",
       "      <td>8.0</td>\n",
       "      <td>2123.0</td>\n",
       "      <td>46.0</td>\n",
       "      <td>1.0</td>\n",
       "      <td>372.0</td>\n",
       "      <td>192.0</td>\n",
       "      <td>NaN</td>\n",
       "      <td>19.0</td>\n",
       "    </tr>\n",
       "    <tr>\n",
       "      <th>June</th>\n",
       "      <td>1072.0</td>\n",
       "      <td>1.0</td>\n",
       "      <td>5.0</td>\n",
       "      <td>429.0</td>\n",
       "      <td>36.0</td>\n",
       "      <td>10.0</td>\n",
       "      <td>848.0</td>\n",
       "      <td>2.0</td>\n",
       "      <td>NaN</td>\n",
       "      <td>692.0</td>\n",
       "      <td>...</td>\n",
       "      <td>2.0</td>\n",
       "      <td>8.0</td>\n",
       "      <td>4.0</td>\n",
       "      <td>2215.0</td>\n",
       "      <td>96.0</td>\n",
       "      <td>1.0</td>\n",
       "      <td>316.0</td>\n",
       "      <td>170.0</td>\n",
       "      <td>NaN</td>\n",
       "      <td>21.0</td>\n",
       "    </tr>\n",
       "    <tr>\n",
       "      <th>March</th>\n",
       "      <td>851.0</td>\n",
       "      <td>NaN</td>\n",
       "      <td>1.0</td>\n",
       "      <td>430.0</td>\n",
       "      <td>36.0</td>\n",
       "      <td>15.0</td>\n",
       "      <td>869.0</td>\n",
       "      <td>4.0</td>\n",
       "      <td>NaN</td>\n",
       "      <td>802.0</td>\n",
       "      <td>...</td>\n",
       "      <td>7.0</td>\n",
       "      <td>8.0</td>\n",
       "      <td>8.0</td>\n",
       "      <td>2045.0</td>\n",
       "      <td>83.0</td>\n",
       "      <td>2.0</td>\n",
       "      <td>355.0</td>\n",
       "      <td>160.0</td>\n",
       "      <td>NaN</td>\n",
       "      <td>10.0</td>\n",
       "    </tr>\n",
       "    <tr>\n",
       "      <th>May</th>\n",
       "      <td>947.0</td>\n",
       "      <td>NaN</td>\n",
       "      <td>NaN</td>\n",
       "      <td>426.0</td>\n",
       "      <td>33.0</td>\n",
       "      <td>7.0</td>\n",
       "      <td>919.0</td>\n",
       "      <td>6.0</td>\n",
       "      <td>NaN</td>\n",
       "      <td>800.0</td>\n",
       "      <td>...</td>\n",
       "      <td>6.0</td>\n",
       "      <td>8.0</td>\n",
       "      <td>5.0</td>\n",
       "      <td>2127.0</td>\n",
       "      <td>117.0</td>\n",
       "      <td>NaN</td>\n",
       "      <td>289.0</td>\n",
       "      <td>197.0</td>\n",
       "      <td>NaN</td>\n",
       "      <td>19.0</td>\n",
       "    </tr>\n",
       "    <tr>\n",
       "      <th>November</th>\n",
       "      <td>683.0</td>\n",
       "      <td>NaN</td>\n",
       "      <td>NaN</td>\n",
       "      <td>345.0</td>\n",
       "      <td>61.0</td>\n",
       "      <td>10.0</td>\n",
       "      <td>722.0</td>\n",
       "      <td>NaN</td>\n",
       "      <td>NaN</td>\n",
       "      <td>594.0</td>\n",
       "      <td>...</td>\n",
       "      <td>15.0</td>\n",
       "      <td>4.0</td>\n",
       "      <td>10.0</td>\n",
       "      <td>1978.0</td>\n",
       "      <td>53.0</td>\n",
       "      <td>1.0</td>\n",
       "      <td>349.0</td>\n",
       "      <td>167.0</td>\n",
       "      <td>2.0</td>\n",
       "      <td>16.0</td>\n",
       "    </tr>\n",
       "    <tr>\n",
       "      <th>October</th>\n",
       "      <td>1000.0</td>\n",
       "      <td>NaN</td>\n",
       "      <td>NaN</td>\n",
       "      <td>522.0</td>\n",
       "      <td>35.0</td>\n",
       "      <td>5.0</td>\n",
       "      <td>909.0</td>\n",
       "      <td>4.0</td>\n",
       "      <td>NaN</td>\n",
       "      <td>810.0</td>\n",
       "      <td>...</td>\n",
       "      <td>10.0</td>\n",
       "      <td>2.0</td>\n",
       "      <td>9.0</td>\n",
       "      <td>2419.0</td>\n",
       "      <td>93.0</td>\n",
       "      <td>NaN</td>\n",
       "      <td>283.0</td>\n",
       "      <td>197.0</td>\n",
       "      <td>NaN</td>\n",
       "      <td>10.0</td>\n",
       "    </tr>\n",
       "    <tr>\n",
       "      <th>September</th>\n",
       "      <td>919.0</td>\n",
       "      <td>NaN</td>\n",
       "      <td>2.0</td>\n",
       "      <td>454.0</td>\n",
       "      <td>33.0</td>\n",
       "      <td>15.0</td>\n",
       "      <td>823.0</td>\n",
       "      <td>2.0</td>\n",
       "      <td>NaN</td>\n",
       "      <td>654.0</td>\n",
       "      <td>...</td>\n",
       "      <td>4.0</td>\n",
       "      <td>4.0</td>\n",
       "      <td>NaN</td>\n",
       "      <td>2171.0</td>\n",
       "      <td>78.0</td>\n",
       "      <td>1.0</td>\n",
       "      <td>313.0</td>\n",
       "      <td>186.0</td>\n",
       "      <td>NaN</td>\n",
       "      <td>24.0</td>\n",
       "    </tr>\n",
       "  </tbody>\n",
       "</table>\n",
       "<p>12 rows × 63 columns</p>\n",
       "</div>"
      ],
      "text/plain": [
       "Description  Aggravated Assault  Animal Bite  Animal Cruelty  Armed Robbery  \\\n",
       "Month                                                                         \n",
       "April                     891.0          NaN             NaN          316.0   \n",
       "August                    916.0          NaN             NaN          582.0   \n",
       "December                  741.0          NaN             NaN          358.0   \n",
       "February                  617.0          NaN             NaN          275.0   \n",
       "January                   839.0          NaN             2.0          513.0   \n",
       "July                      951.0          NaN             NaN          493.0   \n",
       "June                     1072.0          1.0             5.0          429.0   \n",
       "March                     851.0          NaN             1.0          430.0   \n",
       "May                       947.0          NaN             NaN          426.0   \n",
       "November                  683.0          NaN             NaN          345.0   \n",
       "October                  1000.0          NaN             NaN          522.0   \n",
       "September                 919.0          NaN             2.0          454.0   \n",
       "\n",
       "Description  Arson  Attempt Suicide  Auto Theft  Blackmail  Bribery  Burglary  \\\n",
       "Month                                                                           \n",
       "April         48.0              7.0       719.0        NaN      2.0     714.0   \n",
       "August        49.0              7.0       913.0        NaN      NaN     813.0   \n",
       "December      25.0              4.0       674.0        6.0      NaN     636.0   \n",
       "February      35.0              6.0       834.0        NaN      NaN     597.0   \n",
       "January       70.0             18.0       998.0        4.0      NaN     657.0   \n",
       "July          45.0             10.0       848.0       10.0      NaN     821.0   \n",
       "June          36.0             10.0       848.0        2.0      NaN     692.0   \n",
       "March         36.0             15.0       869.0        4.0      NaN     802.0   \n",
       "May           33.0              7.0       919.0        6.0      NaN     800.0   \n",
       "November      61.0             10.0       722.0        NaN      NaN     594.0   \n",
       "October       35.0              5.0       909.0        4.0      NaN     810.0   \n",
       "September     33.0             15.0       823.0        2.0      NaN     654.0   \n",
       "\n",
       "Description  ...  Snatchning  Stalking  Statutory Rape  Stealing  \\\n",
       "Month        ...                                                   \n",
       "April        ...         4.0       NaN             NaN    1796.0   \n",
       "August       ...         9.0       NaN             8.0    2320.0   \n",
       "December     ...         9.0       6.0             9.0    1781.0   \n",
       "February     ...         4.0       8.0            14.0    1625.0   \n",
       "January      ...         7.0       NaN             6.0    1915.0   \n",
       "July         ...         4.0       6.0             8.0    2123.0   \n",
       "June         ...         2.0       8.0             4.0    2215.0   \n",
       "March        ...         7.0       8.0             8.0    2045.0   \n",
       "May          ...         6.0       8.0             5.0    2127.0   \n",
       "November     ...        15.0       4.0            10.0    1978.0   \n",
       "October      ...        10.0       2.0             9.0    2419.0   \n",
       "September    ...         4.0       4.0             NaN    2171.0   \n",
       "\n",
       "Description  Stolen Property  Suicide  Trespassing  Violation  Welfare Fraud  \\\n",
       "Month                                                                          \n",
       "April                   54.0      2.0        287.0      222.0            NaN   \n",
       "August                  66.0      1.0        335.0      222.0            NaN   \n",
       "December                66.0      1.0        295.0      139.0            NaN   \n",
       "February                90.0      NaN        271.0      135.0            NaN   \n",
       "January                 99.0      2.0        226.0      185.0            NaN   \n",
       "July                    46.0      1.0        372.0      192.0            NaN   \n",
       "June                    96.0      1.0        316.0      170.0            NaN   \n",
       "March                   83.0      2.0        355.0      160.0            NaN   \n",
       "May                    117.0      NaN        289.0      197.0            NaN   \n",
       "November                53.0      1.0        349.0      167.0            2.0   \n",
       "October                 93.0      NaN        283.0      197.0            NaN   \n",
       "September               78.0      1.0        313.0      186.0            NaN   \n",
       "\n",
       "Description  Wire Fraud  \n",
       "Month                    \n",
       "April              13.0  \n",
       "August             16.0  \n",
       "December           11.0  \n",
       "February           36.0  \n",
       "January            35.0  \n",
       "July               19.0  \n",
       "June               21.0  \n",
       "March              10.0  \n",
       "May                19.0  \n",
       "November           16.0  \n",
       "October            10.0  \n",
       "September          24.0  \n",
       "\n",
       "[12 rows x 63 columns]"
      ]
     },
     "execution_count": 52,
     "metadata": {},
     "output_type": "execute_result"
    }
   ],
   "source": [
    "crime = crime.pivot(index='Month', columns='Description', values='Reported_Date')\n",
    "crime"
   ]
  },
  {
   "cell_type": "code",
   "execution_count": 80,
   "metadata": {},
   "outputs": [
    {
     "data": {
      "text/plain": [
       "Index(['Month', 'Description', 'Reported_Date'], dtype='object')"
      ]
     },
     "execution_count": 80,
     "metadata": {},
     "output_type": "execute_result"
    }
   ],
   "source": [
    "crime.columns"
   ]
  },
  {
   "cell_type": "markdown",
   "metadata": {},
   "source": [
    "# Personal Crime"
   ]
  },
  {
   "cell_type": "code",
   "execution_count": 54,
   "metadata": {
    "scrolled": false
   },
   "outputs": [
    {
     "data": {
      "image/png": "[encoded data removed]",
      "text/plain": [
       "<Figure size 720x576 with 1 Axes>"
      ]
     },
     "metadata": {
      "needs_background": "light"
     },
     "output_type": "display_data"
    }
   ],
   "source": [
    "#Defining a list that contains the types of Personal Crimes\n",
    "personalCrimes = ['Aggravated Assault', 'Arson', 'Family Disturbance', 'Family Offense', 'Forcible Sodomy', \n",
    "                  'Homicide', 'Rape','Non Aggravated Assault', 'Sexual Assault', 'Stalking', 'Loitering', \n",
    "                  'Statutory Rape', 'Kidnapping']\n",
    "Col =['blue', 'red', 'brown', 'orange', 'yellow','purple', 'lime', 'teal', 'cyan', 'dodgerblue', 'indigo','deeppink', 'pink']\n",
    "\n",
    "pCrimes = crime.loc[months, personalCrimes].plot.bar(stacked=True, figsize=(10,8), color=Col)\n",
    "\n",
    "#Setting the legend to best fit the graph, got the code from https://stackoverflow.com/questions/43272206/python-legend-overlaps-with-the-pie-chart\n",
    "lgd = pCrimes.legend(bbox_to_anchor=(1.15,0.5), loc=\"center right\", fontsize=10, \n",
    "           bbox_transform=plt.gcf().transFigure)\n",
    "text = ax.text(-0.2,1.05, \"Aribitrary text\", transform=ax.transAxes)\n",
    "\n",
    "#Setting title, x-label and y-label\n",
    "pCrimes.set_title('Personal Crimes by Month')\n",
    "pCrimes.set_xlabel('Month')\n",
    "pCrimes.set_ylabel('Total Count')\n",
    "plt.show()"
   ]
  },
  {
   "cell_type": "code",
   "execution_count": 55,
   "metadata": {},
   "outputs": [],
   "source": [
    "fig = pCrimes.get_figure()\n",
    "fig.savefig('Images/Personal Crimes by Month',bbox_extra_artists=(lgd, text), bbox_inches='tight')"
   ]
  },
  {
   "cell_type": "markdown",
   "metadata": {},
   "source": [
    "# Property Crime "
   ]
  },
  {
   "cell_type": "code",
   "execution_count": 56,
   "metadata": {},
   "outputs": [
    {
     "data": {
      "image/png": "[encoded data removed]",
      "text/plain": [
       "<Figure size 720x576 with 1 Axes>"
      ]
     },
     "metadata": {
      "needs_background": "light"
     },
     "output_type": "display_data"
    }
   ],
   "source": [
    "propertyCrimes = ['Auto Theft', 'Armed Robbery', 'Burglary', 'Failure to Return', 'Larceny', 'Pickpocket', 'Property Damage',\n",
    "                 'Robbery', 'Shoplifting', 'Stealing']\n",
    "Col =['red', 'brown', 'orange', 'yellow', 'lime', 'teal', 'cyan', 'dodgerblue', 'magenta','indigo']\n",
    "propCrimes = crime.loc[months, propertyCrimes].plot.bar(stacked=True, figsize=(10,8), color=Col)\n",
    "\n",
    "#Setting the legend to best fit the graph, got the code from https://stackoverflow.com/questions/43272206/python-legend-overlaps-with-the-pie-chart\n",
    "lgd = propCrimes.legend(bbox_to_anchor=(1.1,0.5), loc=\"center right\", fontsize=10, \n",
    "           bbox_transform=plt.gcf().transFigure)\n",
    "text = ax.text(-0.2,1.05, \"Aribitrary text\", transform=ax.transAxes)\n",
    "\n",
    "\n",
    "#Setting title, x-label and y-label\n",
    "propCrimes.set_title('Property Crimes by Month')\n",
    "propCrimes.set_xlabel('Month')\n",
    "propCrimes.set_ylabel('Total Count')\n",
    "plt.show()"
   ]
  },
  {
   "cell_type": "code",
   "execution_count": 57,
   "metadata": {},
   "outputs": [],
   "source": [
    "fig = propCrimes.get_figure()\n",
    "fig.savefig('Images/Property Crimes by Month',bbox_extra_artists=(lgd, text), bbox_inches='tight')"
   ]
  },
  {
   "cell_type": "code",
   "execution_count": 100,
   "metadata": {},
   "outputs": [
    {
     "data": {
      "text/plain": [
       "12752"
      ]
     },
     "execution_count": 100,
     "metadata": {},
     "output_type": "execute_result"
    }
   ],
   "source": [
    "stealingWinter = crime[(crime['Month'] == 'October') & (crime['Description'] == 'Stealing')]\n",
    "x = stealingWinter.iloc[0]['Reported_Date']\n",
    "totalWinter = x\n",
    "stealingWinter = crime[(crime['Month'] == 'November') & (crime['Description'] == 'Stealing')]\n",
    "x = stealingWinter.iloc[0]['Reported_Date']\n",
    "totalWinter = totalWinter + x\n",
    "stealingWinter = crime[(crime['Month'] == 'January') & (crime['Description'] == 'Stealing')]\n",
    "x = stealingWinter.iloc[0]['Reported_Date']\n",
    "totalWinter = totalWinter + x\n",
    "stealingWinter = crime[(crime['Month'] == 'February') & (crime['Description'] == 'Stealing')]\n",
    "x = stealingWinter.iloc[0]['Reported_Date']\n",
    "totalWinter = totalWinter + x\n",
    "stealingWinter = crime[(crime['Month'] == 'March') & (crime['Description'] == 'Stealing')]\n",
    "x = stealingWinter.iloc[0]['Reported_Date']\n",
    "totalWinter = totalWinter + x\n",
    "\n",
    "stealingSummer = crime[(crime['Month'] == 'April') & (crime['Description'] == 'Stealing')]\n",
    "x = stealingSummer.iloc[0]['Reported_Date']\n",
    "totalSummer = x\n",
    "stealingSummer = crime[(crime['Month'] == 'May') & (crime['Description'] == 'Stealing')]\n",
    "x = stealingSummer.iloc[0]['Reported_Date']\n",
    "totalSummer = totalSummer + x\n",
    "stealingSummer = crime[(crime['Month'] == 'June') & (crime['Description'] == 'Stealing')]\n",
    "x = stealingSummer.iloc[0]['Reported_Date']\n",
    "totalSummer = totalSummer + x\n",
    "stealingSummer = crime[(crime['Month'] == 'July') & (crime['Description'] == 'Stealing')]\n",
    "x = stealingSummer.iloc[0]['Reported_Date']\n",
    "totalSummer = totalSummer + x\n",
    "stealingSummer = crime[(crime['Month'] == 'August') & (crime['Description'] == 'Stealing')]\n",
    "x = stealingSummer.iloc[0]['Reported_Date']\n",
    "totalSummer = totalSummer + x\n",
    "stealingSummer = crime[(crime['Month'] == 'September') & (crime['Description'] == 'Stealing')]\n",
    "x = stealingSummer.iloc[0]['Reported_Date']\n",
    "totalSummer = totalSummer + x"
   ]
  },
  {
   "cell_type": "code",
   "execution_count": 101,
   "metadata": {},
   "outputs": [
    {
     "data": {
      "text/html": [
       "<div>\n",
       "<style scoped>\n",
       "    .dataframe tbody tr th:only-of-type {\n",
       "        vertical-align: middle;\n",
       "    }\n",
       "\n",
       "    .dataframe tbody tr th {\n",
       "        vertical-align: top;\n",
       "    }\n",
       "\n",
       "    .dataframe thead th {\n",
       "        text-align: right;\n",
       "    }\n",
       "</style>\n",
       "<table border=\"1\" class=\"dataframe\">\n",
       "  <thead>\n",
       "    <tr style=\"text-align: right;\">\n",
       "      <th></th>\n",
       "      <th>Season</th>\n",
       "      <th>Total</th>\n",
       "    </tr>\n",
       "  </thead>\n",
       "  <tbody>\n",
       "    <tr>\n",
       "      <th>0</th>\n",
       "      <td>Summer</td>\n",
       "      <td>12752</td>\n",
       "    </tr>\n",
       "    <tr>\n",
       "      <th>1</th>\n",
       "      <td>Winter</td>\n",
       "      <td>9982</td>\n",
       "    </tr>\n",
       "  </tbody>\n",
       "</table>\n",
       "</div>"
      ],
      "text/plain": [
       "   Season  Total\n",
       "0  Summer  12752\n",
       "1  Winter   9982"
      ]
     },
     "execution_count": 101,
     "metadata": {},
     "output_type": "execute_result"
    }
   ],
   "source": [
    "df4 = pd.DataFrame({'Season': ['Summer', 'Winter'],\n",
    "                   'Total': [totalSummer, totalWinter]})\n",
    "df4"
   ]
  },
  {
   "cell_type": "code",
   "execution_count": 103,
   "metadata": {},
   "outputs": [
    {
     "data": {
      "image/png": "[encoded data removed]",
      "text/plain": [
       "<Figure size 432x288 with 1 Axes>"
      ]
     },
     "metadata": {
      "needs_background": "light"
     },
     "output_type": "display_data"
    }
   ],
   "source": [
    "typeSeason = plt.bar(x = df4['Season'], height = df4['Total'], color=['magenta', 'indigo'])\n",
    "plt.title('Stealing by Season')\n",
    "plt.ylabel('Total')\n",
    "plt.show()"
   ]
  },
  {
   "cell_type": "markdown",
   "metadata": {},
   "source": [
    "# Statutory Crime"
   ]
  },
  {
   "cell_type": "code",
   "execution_count": null,
   "metadata": {},
   "outputs": [],
   "source": [
    "statutoryCrimes = ['DUI', 'Misdemeanor', 'Hit and Run','Drug Overdose', 'Human Trafficking', 'Violation', 'Felony', 'Impersonation',\n",
    "                  'Gambling', 'Identity Theft', 'Intimidation', 'Possession of Drug']\n",
    "Col =['blue', 'red', 'brown', 'orange', 'yellow','purple', 'lime', 'teal', 'cyan', 'dodgerblue', 'indigo','deeppink', 'pink']\n",
    "statCrimes = crime.loc[months, statutoryCrimes].plot.bar(stacked=True, figsize=(10,8), color=Col)\n",
    "\n",
    "#Setting the legend to best fit the graph, got the code from https://stackoverflow.com/questions/43272206/python-legend-overlaps-with-the-pie-chart\n",
    "lgd = statCrimes.legend(bbox_to_anchor=(1.1,0.5), loc=\"center right\", fontsize=10, \n",
    "           bbox_transform=plt.gcf().transFigure)\n",
    "text = ax.text(-0.2,1.05, \"Aribitrary text\", transform=ax.transAxes)\n",
    "\n",
    "\n",
    "#Setting title, x-label and y-label\n",
    "statCrimes.set_title('Statutory Crimes by Month')\n",
    "statCrimes.set_xlabel('Month')\n",
    "statCrimes.set_ylabel('Total Count')\n",
    "plt.show()"
   ]
  },
  {
   "cell_type": "code",
   "execution_count": null,
   "metadata": {},
   "outputs": [],
   "source": [
    "fig = statCrimes.get_figure()\n",
    "fig.savefig('Images/Statutory Crimes by Month',bbox_extra_artists=(lgd, text), bbox_inches='tight')"
   ]
  },
  {
   "cell_type": "markdown",
   "metadata": {},
   "source": [
    "# Financial Crime"
   ]
  },
  {
   "cell_type": "code",
   "execution_count": null,
   "metadata": {},
   "outputs": [],
   "source": [
    "financialCrimes = ['Counterfeiting', 'Embezzlement', 'Blackmail', 'Fraud', 'Welfare Fraud', 'Forgery', 'Wire Fraud']\n",
    "Col =['blue', 'red', 'brown', 'orange', 'yellow','purple', 'lime', 'teal', 'cyan', 'dodgerblue', 'indigo','deeppink', 'pink']\n",
    "finanCrimes = crime.loc[months, financialCrimes].plot.bar(stacked=True, figsize=(10,8), color=Col)\n",
    "\n",
    "#Setting the legend to best fit the graph, got the code from https://stackoverflow.com/questions/43272206/python-legend-overlaps-with-the-pie-chart\n",
    "lgd = finanCrimes.legend(bbox_to_anchor=(1.1,0.5), loc=\"center right\", fontsize=10, \n",
    "           bbox_transform=plt.gcf().transFigure)\n",
    "text = ax.text(-0.2,1.05, \"Aribitrary text\", transform=ax.transAxes)\n",
    "\n",
    "\n",
    "#Setting title, x-label and y-label\n",
    "finanCrimes.set_title('Financial Crimes by Month')\n",
    "finanCrimes.set_xlabel('Month')\n",
    "finanCrimes.set_ylabel('Total Count')\n",
    "plt.show()"
   ]
  },
  {
   "cell_type": "code",
   "execution_count": null,
   "metadata": {},
   "outputs": [],
   "source": [
    "fig = finanCrimes.get_figure()\n",
    "fig.savefig('Images/Financial Crimes by Month',bbox_extra_artists=(lgd, text), bbox_inches='tight')"
   ]
  },
  {
   "cell_type": "markdown",
   "metadata": {},
   "source": [
    "# Other Crimes"
   ]
  },
  {
   "cell_type": "code",
   "execution_count": null,
   "metadata": {},
   "outputs": [],
   "source": [
    "otherCrimes = ['Casualty', 'Dead Body', 'Animal bite', 'Animal Cruelty', 'Credit/Debit/ATM Car', 'Curfew', 'Cybercrime', 'Misdemeanor/Other',\n",
    "              'Attempt Suicide', 'Suicide', 'Misc', 'Missing', 'Pornography', 'Prostitution', 'Interference']\n",
    "Col =['black', 'chocolate', 'orange', 'yellow','purple', 'blue', 'red', 'brown', 'lime', 'teal', 'cyan', 'dodgerblue', 'indigo','deeppink', 'pink']\n",
    "othCrimes = crime.loc[months, otherCrimes].plot.bar(stacked=True, figsize=(10,8), color=Col)\n",
    "\n",
    "#Setting the legend to best fit the graph, got the code from https://stackoverflow.com/questions/43272206/python-legend-overlaps-with-the-pie-chart\n",
    "lgd = othCrimes.legend(bbox_to_anchor=(1.1,0.5), loc=\"center right\", fontsize=10, \n",
    "           bbox_transform=plt.gcf().transFigure)\n",
    "text = ax.text(-0.2,1.05, \"Aribitrary text\", transform=ax.transAxes)\n",
    "\n",
    "#Setting title, x-label and y-label\n",
    "othCrimes.set_title('Other Crimes by Month')\n",
    "othCrimes.set_xlabel('Month')\n",
    "othCrimes.set_ylabel('Total Count')\n",
    "plt.show()"
   ]
  },
  {
   "cell_type": "code",
   "execution_count": null,
   "metadata": {},
   "outputs": [],
   "source": [
    "fig = othCrimes.get_figure()\n",
    "fig.savefig('Images/Other Crimes by Month',bbox_extra_artists=(lgd, text), bbox_inches='tight')"
   ]
  }
 ],
 "metadata": {
  "kernelspec": {
   "display_name": "PythonData",
   "language": "python",
   "name": "pythondata"
  },
  "language_info": {
   "codemirror_mode": {
    "name": "ipython",
    "version": 3
   },
   "file_extension": ".py",
   "mimetype": "text/x-python",
   "name": "python",
   "nbconvert_exporter": "python",
   "pygments_lexer": "ipython3",
   "version": "3.6.9"
  }
 },
 "nbformat": 4,
 "nbformat_minor": 2
}
